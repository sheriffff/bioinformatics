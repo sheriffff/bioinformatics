{
 "cells": [
  {
   "cell_type": "markdown",
   "id": "6f0811c9",
   "metadata": {},
   "source": [
    "# Finding Hidden Messages in DNA (Bioinformatics I)"
   ]
  },
  {
   "cell_type": "markdown",
   "id": "2811a0cc",
   "metadata": {},
   "source": [
    "[Link to the course](https://www.coursera.org/learn/dna-analysis/home/week/1)"
   ]
  },
  {
   "cell_type": "markdown",
   "id": "5a439887",
   "metadata": {},
   "source": [
    "# Week 2"
   ]
  },
  {
   "cell_type": "markdown",
   "id": "6b33a4d3",
   "metadata": {},
   "source": [
    "Learnings:\n",
    " - hi"
   ]
  },
  {
   "cell_type": "markdown",
   "id": "429fe7a6",
   "metadata": {
    "toc": true
   },
   "source": [
    "<h1>Table of Contents<span class=\"tocSkip\"></span></h1>\n",
    "<div class=\"toc\"><ul class=\"toc-item\"><li><span><a href=\"#Chapter-1.2,-PatternCount\" data-toc-modified-id=\"Chapter-1.2,-PatternCount-1\"><span class=\"toc-item-num\">1&nbsp;&nbsp;</span>Chapter 1.2, PatternCount</a></span></li></ul></div>"
   ]
  },
  {
   "cell_type": "code",
   "execution_count": 1,
   "id": "43838e16",
   "metadata": {},
   "outputs": [],
   "source": [
    "from utils import read_inputs, generate_random_dna_sequence"
   ]
  },
  {
   "cell_type": "markdown",
   "id": "8df36a07",
   "metadata": {},
   "source": [
    "### Chapter 1.2, PatternCount"
   ]
  },
  {
   "cell_type": "markdown",
   "id": "e436bc2e",
   "metadata": {},
   "source": [
    "Code Challenge: Implement PatternCount (reproduced below).  \n",
    "> Input: Strings Text and Pattern.  \n",
    "> Output: Count(Text, Pattern)."
   ]
  },
  {
   "cell_type": "code",
   "execution_count": 2,
   "id": "7537cf02",
   "metadata": {},
   "outputs": [],
   "source": [
    "seq, pat = read_inputs(\"dataset_30272_6.txt\")"
   ]
  },
  {
   "cell_type": "code",
   "execution_count": null,
   "id": "04870d7e",
   "metadata": {},
   "outputs": [],
   "source": []
  }
 ],
 "metadata": {
  "kernelspec": {
   "display_name": "Python 3 (ipykernel)",
   "language": "python",
   "name": "python3"
  },
  "language_info": {
   "codemirror_mode": {
    "name": "ipython",
    "version": 3
   },
   "file_extension": ".py",
   "mimetype": "text/x-python",
   "name": "python",
   "nbconvert_exporter": "python",
   "pygments_lexer": "ipython3",
   "version": "3.10.12"
  },
  "toc": {
   "base_numbering": 1,
   "nav_menu": {},
   "number_sections": true,
   "sideBar": true,
   "skip_h1_title": true,
   "title_cell": "Table of Contents",
   "title_sidebar": "Contents",
   "toc_cell": true,
   "toc_position": {},
   "toc_section_display": true,
   "toc_window_display": false
  },
  "varInspector": {
   "cols": {
    "lenName": 16,
    "lenType": 16,
    "lenVar": 40
   },
   "kernels_config": {
    "python": {
     "delete_cmd_postfix": "",
     "delete_cmd_prefix": "del ",
     "library": "var_list.py",
     "varRefreshCmd": "print(var_dic_list())"
    },
    "r": {
     "delete_cmd_postfix": ") ",
     "delete_cmd_prefix": "rm(",
     "library": "var_list.r",
     "varRefreshCmd": "cat(var_dic_list()) "
    }
   },
   "types_to_exclude": [
    "module",
    "function",
    "builtin_function_or_method",
    "instance",
    "_Feature"
   ],
   "window_display": false
  }
 },
 "nbformat": 4,
 "nbformat_minor": 5
}
